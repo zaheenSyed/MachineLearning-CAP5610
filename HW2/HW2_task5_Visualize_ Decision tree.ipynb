{
 "cells": [
  {
   "cell_type": "code",
   "execution_count": 1,
   "metadata": {},
   "outputs": [],
   "source": [
    "from sklearn.datasets import load_iris\n",
    "iris = load_iris()"
   ]
  },
  {
   "cell_type": "code",
   "execution_count": 10,
   "metadata": {},
   "outputs": [
    {
     "data": {
      "text/html": [
       "<div>\n",
       "<style scoped>\n",
       "    .dataframe tbody tr th:only-of-type {\n",
       "        vertical-align: middle;\n",
       "    }\n",
       "\n",
       "    .dataframe tbody tr th {\n",
       "        vertical-align: top;\n",
       "    }\n",
       "\n",
       "    .dataframe thead th {\n",
       "        text-align: right;\n",
       "    }\n",
       "</style>\n",
       "<table border=\"1\" class=\"dataframe\">\n",
       "  <thead>\n",
       "    <tr style=\"text-align: right;\">\n",
       "      <th></th>\n",
       "      <th>early</th>\n",
       "      <th>finished hmk</th>\n",
       "      <th>senior</th>\n",
       "      <th>likes coffee</th>\n",
       "      <th>liked jedi</th>\n",
       "      <th>A</th>\n",
       "    </tr>\n",
       "  </thead>\n",
       "  <tbody>\n",
       "    <tr>\n",
       "      <th>0</th>\n",
       "      <td>0</td>\n",
       "      <td>0</td>\n",
       "      <td>1</td>\n",
       "      <td>0</td>\n",
       "      <td>0</td>\n",
       "      <td>0</td>\n",
       "    </tr>\n",
       "    <tr>\n",
       "      <th>1</th>\n",
       "      <td>0</td>\n",
       "      <td>1</td>\n",
       "      <td>1</td>\n",
       "      <td>0</td>\n",
       "      <td>1</td>\n",
       "      <td>0</td>\n",
       "    </tr>\n",
       "    <tr>\n",
       "      <th>2</th>\n",
       "      <td>1</td>\n",
       "      <td>0</td>\n",
       "      <td>0</td>\n",
       "      <td>0</td>\n",
       "      <td>1</td>\n",
       "      <td>0</td>\n",
       "    </tr>\n",
       "    <tr>\n",
       "      <th>3</th>\n",
       "      <td>1</td>\n",
       "      <td>0</td>\n",
       "      <td>0</td>\n",
       "      <td>0</td>\n",
       "      <td>0</td>\n",
       "      <td>0</td>\n",
       "    </tr>\n",
       "    <tr>\n",
       "      <th>4</th>\n",
       "      <td>0</td>\n",
       "      <td>1</td>\n",
       "      <td>1</td>\n",
       "      <td>1</td>\n",
       "      <td>1</td>\n",
       "      <td>0</td>\n",
       "    </tr>\n",
       "  </tbody>\n",
       "</table>\n",
       "</div>"
      ],
      "text/plain": [
       "   early  finished hmk  senior  likes coffee  liked jedi  A\n",
       "0      0             0       1             0           0  0\n",
       "1      0             1       1             0           1  0\n",
       "2      1             0       0             0           1  0\n",
       "3      1             0       0             0           0  0\n",
       "4      0             1       1             1           1  0"
      ]
     },
     "execution_count": 10,
     "metadata": {},
     "output_type": "execute_result"
    }
   ],
   "source": [
    "import pandas as pd\n",
    "df = pd.read_csv('./data1.csv')\n",
    "df.head()"
   ]
  },
  {
   "cell_type": "code",
   "execution_count": 12,
   "metadata": {},
   "outputs": [
    {
     "data": {
      "text/plain": [
       "array([[0, 0, 1, 0, 0],\n",
       "       [0, 1, 1, 0, 1],\n",
       "       [1, 0, 0, 0, 1],\n",
       "       [1, 0, 0, 0, 0],\n",
       "       [0, 1, 1, 1, 1],\n",
       "       [0, 0, 0, 0, 1],\n",
       "       [1, 1, 0, 0, 1],\n",
       "       [1, 1, 1, 0, 1],\n",
       "       [0, 1, 1, 0, 0],\n",
       "       [0, 0, 1, 1, 1],\n",
       "       [0, 1, 0, 1, 1],\n",
       "       [0, 0, 1, 0, 1],\n",
       "       [1, 1, 1, 0, 0],\n",
       "       [1, 0, 0, 1, 0]], dtype=int64)"
      ]
     },
     "execution_count": 12,
     "metadata": {},
     "output_type": "execute_result"
    }
   ],
   "source": [
    "df_data=df.filter(['early','finished hmk','senior','likes coffee','liked jedi'])\n",
    "data=df_data.to_numpy()\n",
    "data"
   ]
  },
  {
   "cell_type": "code",
   "execution_count": 13,
   "metadata": {},
   "outputs": [
    {
     "data": {
      "text/plain": [
       "array([0, 0, 0, 0, 0, 0, 1, 1, 1, 1, 1, 1, 1, 1], dtype=int64)"
      ]
     },
     "execution_count": 13,
     "metadata": {},
     "output_type": "execute_result"
    }
   ],
   "source": [
    "trgt=df['A'].to_numpy()\n",
    "trgt"
   ]
  },
  {
   "cell_type": "code",
   "execution_count": 28,
   "metadata": {},
   "outputs": [],
   "source": [
    "from sklearn import tree\n",
    "clf = tree.DecisionTreeClassifier(criterion='entropy', max_depth=1,)\n",
    "clf = clf.fit(data, trgt)"
   ]
  },
  {
   "cell_type": "code",
   "execution_count": 29,
   "metadata": {},
   "outputs": [],
   "source": [
    "import graphviz\n",
    "\n",
    "ft=list(df_data.columns)\n",
    "tgn=['0','1']\n",
    "\n",
    "dot_data = tree.export_graphviz(clf, out_file=None,feature_names=ft,class_names=tgn,filled=True, rounded=True,special_characters=True)  \n",
    "graph = graphviz.Source(dot_data)"
   ]
  },
  {
   "cell_type": "code",
   "execution_count": 30,
   "metadata": {},
   "outputs": [
    {
     "data": {
      "image/svg+xml": [
       "<?xml version=\"1.0\" encoding=\"UTF-8\" standalone=\"no\"?>\n",
       "<!DOCTYPE svg PUBLIC \"-//W3C//DTD SVG 1.1//EN\"\n",
       " \"http://www.w3.org/Graphics/SVG/1.1/DTD/svg11.dtd\">\n",
       "<!-- Generated by graphviz version 2.49.3 (0)\n",
       " -->\n",
       "<!-- Title: Tree Pages: 1 -->\n",
       "<svg width=\"254pt\" height=\"195pt\"\n",
       " viewBox=\"0.00 0.00 254.00 195.00\" xmlns=\"http://www.w3.org/2000/svg\" xmlns:xlink=\"http://www.w3.org/1999/xlink\">\n",
       "<g id=\"graph0\" class=\"graph\" transform=\"scale(1 1) rotate(0) translate(4 191)\">\n",
       "<title>Tree</title>\n",
       "<polygon fill=\"white\" stroke=\"transparent\" points=\"-4,4 -4,-191 250,-191 250,4 -4,4\"/>\n",
       "<!-- 0 -->\n",
       "<g id=\"node1\" class=\"node\">\n",
       "<title>0</title>\n",
       "<path fill=\"#cee6f8\" stroke=\"black\" d=\"M176,-187C176,-187 70,-187 70,-187 64,-187 58,-181 58,-175 58,-175 58,-116 58,-116 58,-110 64,-104 70,-104 70,-104 176,-104 176,-104 182,-104 188,-110 188,-116 188,-116 188,-175 188,-175 188,-181 182,-187 176,-187\"/>\n",
       "<text text-anchor=\"start\" x=\"66\" y=\"-171.8\" font-family=\"Helvetica,sans-Serif\" font-size=\"14.00\">finished hmk ≤ 0.5</text>\n",
       "<text text-anchor=\"start\" x=\"74\" y=\"-156.8\" font-family=\"Helvetica,sans-Serif\" font-size=\"14.00\">entropy = 0.985</text>\n",
       "<text text-anchor=\"start\" x=\"81\" y=\"-141.8\" font-family=\"Helvetica,sans-Serif\" font-size=\"14.00\">samples = 14</text>\n",
       "<text text-anchor=\"start\" x=\"82.5\" y=\"-126.8\" font-family=\"Helvetica,sans-Serif\" font-size=\"14.00\">value = [6, 8]</text>\n",
       "<text text-anchor=\"start\" x=\"95\" y=\"-111.8\" font-family=\"Helvetica,sans-Serif\" font-size=\"14.00\">class = 1</text>\n",
       "</g>\n",
       "<!-- 1 -->\n",
       "<g id=\"node2\" class=\"node\">\n",
       "<title>1</title>\n",
       "<path fill=\"#f8e0ce\" stroke=\"black\" d=\"M102,-68C102,-68 12,-68 12,-68 6,-68 0,-62 0,-56 0,-56 0,-12 0,-12 0,-6 6,0 12,0 12,0 102,0 102,0 108,0 114,-6 114,-12 114,-12 114,-56 114,-56 114,-62 108,-68 102,-68\"/>\n",
       "<text text-anchor=\"start\" x=\"8\" y=\"-52.8\" font-family=\"Helvetica,sans-Serif\" font-size=\"14.00\">entropy = 0.985</text>\n",
       "<text text-anchor=\"start\" x=\"19\" y=\"-37.8\" font-family=\"Helvetica,sans-Serif\" font-size=\"14.00\">samples = 7</text>\n",
       "<text text-anchor=\"start\" x=\"16.5\" y=\"-22.8\" font-family=\"Helvetica,sans-Serif\" font-size=\"14.00\">value = [4, 3]</text>\n",
       "<text text-anchor=\"start\" x=\"29\" y=\"-7.8\" font-family=\"Helvetica,sans-Serif\" font-size=\"14.00\">class = 0</text>\n",
       "</g>\n",
       "<!-- 0&#45;&gt;1 -->\n",
       "<g id=\"edge1\" class=\"edge\">\n",
       "<title>0&#45;&gt;1</title>\n",
       "<path fill=\"none\" stroke=\"black\" d=\"M98.42,-103.73C93.15,-94.97 87.56,-85.7 82.26,-76.91\"/>\n",
       "<polygon fill=\"black\" stroke=\"black\" points=\"85.23,-75.06 77.07,-68.3 79.24,-78.67 85.23,-75.06\"/>\n",
       "<text text-anchor=\"middle\" x=\"71.06\" y=\"-88.87\" font-family=\"Helvetica,sans-Serif\" font-size=\"14.00\">True</text>\n",
       "</g>\n",
       "<!-- 2 -->\n",
       "<g id=\"node3\" class=\"node\">\n",
       "<title>2</title>\n",
       "<path fill=\"#88c4ef\" stroke=\"black\" d=\"M234,-68C234,-68 144,-68 144,-68 138,-68 132,-62 132,-56 132,-56 132,-12 132,-12 132,-6 138,0 144,0 144,0 234,0 234,0 240,0 246,-6 246,-12 246,-12 246,-56 246,-56 246,-62 240,-68 234,-68\"/>\n",
       "<text text-anchor=\"start\" x=\"140\" y=\"-52.8\" font-family=\"Helvetica,sans-Serif\" font-size=\"14.00\">entropy = 0.863</text>\n",
       "<text text-anchor=\"start\" x=\"151\" y=\"-37.8\" font-family=\"Helvetica,sans-Serif\" font-size=\"14.00\">samples = 7</text>\n",
       "<text text-anchor=\"start\" x=\"148.5\" y=\"-22.8\" font-family=\"Helvetica,sans-Serif\" font-size=\"14.00\">value = [2, 5]</text>\n",
       "<text text-anchor=\"start\" x=\"161\" y=\"-7.8\" font-family=\"Helvetica,sans-Serif\" font-size=\"14.00\">class = 1</text>\n",
       "</g>\n",
       "<!-- 0&#45;&gt;2 -->\n",
       "<g id=\"edge2\" class=\"edge\">\n",
       "<title>0&#45;&gt;2</title>\n",
       "<path fill=\"none\" stroke=\"black\" d=\"M147.58,-103.73C152.85,-94.97 158.44,-85.7 163.74,-76.91\"/>\n",
       "<polygon fill=\"black\" stroke=\"black\" points=\"166.76,-78.67 168.93,-68.3 160.77,-75.06 166.76,-78.67\"/>\n",
       "<text text-anchor=\"middle\" x=\"174.94\" y=\"-88.87\" font-family=\"Helvetica,sans-Serif\" font-size=\"14.00\">False</text>\n",
       "</g>\n",
       "</g>\n",
       "</svg>\n"
      ],
      "text/plain": [
       "<graphviz.sources.Source at 0x188616de848>"
      ]
     },
     "execution_count": 30,
     "metadata": {},
     "output_type": "execute_result"
    }
   ],
   "source": [
    "graph"
   ]
  },
  {
   "cell_type": "code",
   "execution_count": 31,
   "metadata": {},
   "outputs": [
    {
     "data": {
      "text/plain": [
       "'dt_depth1.pdf'"
      ]
     },
     "execution_count": 31,
     "metadata": {},
     "output_type": "execute_result"
    }
   ],
   "source": [
    "#save in to a pdf file\n",
    "graph.render(\"dt_depth1\")"
   ]
  },
  {
   "cell_type": "code",
   "execution_count": 35,
   "metadata": {},
   "outputs": [],
   "source": [
    "from sklearn import tree\n",
    "clf2 = tree.DecisionTreeClassifier(criterion='entropy', max_depth=2)\n",
    "clf2 = clf2.fit(data, trgt)"
   ]
  },
  {
   "cell_type": "code",
   "execution_count": 36,
   "metadata": {},
   "outputs": [
    {
     "data": {
      "image/svg+xml": [
       "<?xml version=\"1.0\" encoding=\"UTF-8\" standalone=\"no\"?>\n",
       "<!DOCTYPE svg PUBLIC \"-//W3C//DTD SVG 1.1//EN\"\n",
       " \"http://www.w3.org/Graphics/SVG/1.1/DTD/svg11.dtd\">\n",
       "<!-- Generated by graphviz version 2.49.3 (0)\n",
       " -->\n",
       "<!-- Title: Tree Pages: 1 -->\n",
       "<svg width=\"483pt\" height=\"314pt\"\n",
       " viewBox=\"0.00 0.00 482.50 314.00\" xmlns=\"http://www.w3.org/2000/svg\" xmlns:xlink=\"http://www.w3.org/1999/xlink\">\n",
       "<g id=\"graph0\" class=\"graph\" transform=\"scale(1 1) rotate(0) translate(4 310)\">\n",
       "<title>Tree</title>\n",
       "<polygon fill=\"white\" stroke=\"transparent\" points=\"-4,4 -4,-310 478.5,-310 478.5,4 -4,4\"/>\n",
       "<!-- 0 -->\n",
       "<g id=\"node1\" class=\"node\">\n",
       "<title>0</title>\n",
       "<path fill=\"#cee6f8\" stroke=\"black\" d=\"M298,-306C298,-306 192,-306 192,-306 186,-306 180,-300 180,-294 180,-294 180,-235 180,-235 180,-229 186,-223 192,-223 192,-223 298,-223 298,-223 304,-223 310,-229 310,-235 310,-235 310,-294 310,-294 310,-300 304,-306 298,-306\"/>\n",
       "<text text-anchor=\"start\" x=\"188\" y=\"-290.8\" font-family=\"Helvetica,sans-Serif\" font-size=\"14.00\">finished hmk ≤ 0.5</text>\n",
       "<text text-anchor=\"start\" x=\"196\" y=\"-275.8\" font-family=\"Helvetica,sans-Serif\" font-size=\"14.00\">entropy = 0.985</text>\n",
       "<text text-anchor=\"start\" x=\"203\" y=\"-260.8\" font-family=\"Helvetica,sans-Serif\" font-size=\"14.00\">samples = 14</text>\n",
       "<text text-anchor=\"start\" x=\"204.5\" y=\"-245.8\" font-family=\"Helvetica,sans-Serif\" font-size=\"14.00\">value = [6, 8]</text>\n",
       "<text text-anchor=\"start\" x=\"217\" y=\"-230.8\" font-family=\"Helvetica,sans-Serif\" font-size=\"14.00\">class = 1</text>\n",
       "</g>\n",
       "<!-- 1 -->\n",
       "<g id=\"node2\" class=\"node\">\n",
       "<title>1</title>\n",
       "<path fill=\"#f8e0ce\" stroke=\"black\" d=\"M225.5,-187C225.5,-187 128.5,-187 128.5,-187 122.5,-187 116.5,-181 116.5,-175 116.5,-175 116.5,-116 116.5,-116 116.5,-110 122.5,-104 128.5,-104 128.5,-104 225.5,-104 225.5,-104 231.5,-104 237.5,-110 237.5,-116 237.5,-116 237.5,-175 237.5,-175 237.5,-181 231.5,-187 225.5,-187\"/>\n",
       "<text text-anchor=\"start\" x=\"124.5\" y=\"-171.8\" font-family=\"Helvetica,sans-Serif\" font-size=\"14.00\">likes coffee ≤ 0.5</text>\n",
       "<text text-anchor=\"start\" x=\"128\" y=\"-156.8\" font-family=\"Helvetica,sans-Serif\" font-size=\"14.00\">entropy = 0.985</text>\n",
       "<text text-anchor=\"start\" x=\"139\" y=\"-141.8\" font-family=\"Helvetica,sans-Serif\" font-size=\"14.00\">samples = 7</text>\n",
       "<text text-anchor=\"start\" x=\"136.5\" y=\"-126.8\" font-family=\"Helvetica,sans-Serif\" font-size=\"14.00\">value = [4, 3]</text>\n",
       "<text text-anchor=\"start\" x=\"149\" y=\"-111.8\" font-family=\"Helvetica,sans-Serif\" font-size=\"14.00\">class = 0</text>\n",
       "</g>\n",
       "<!-- 0&#45;&gt;1 -->\n",
       "<g id=\"edge1\" class=\"edge\">\n",
       "<title>0&#45;&gt;1</title>\n",
       "<path fill=\"none\" stroke=\"black\" d=\"M221.41,-222.91C216.34,-214.2 210.94,-204.9 205.71,-195.89\"/>\n",
       "<polygon fill=\"black\" stroke=\"black\" points=\"208.6,-193.91 200.55,-187.02 202.55,-197.43 208.6,-193.91\"/>\n",
       "<text text-anchor=\"middle\" x=\"194.15\" y=\"-207.49\" font-family=\"Helvetica,sans-Serif\" font-size=\"14.00\">True</text>\n",
       "</g>\n",
       "<!-- 4 -->\n",
       "<g id=\"node5\" class=\"node\">\n",
       "<title>4</title>\n",
       "<path fill=\"#88c4ef\" stroke=\"black\" d=\"M358,-187C358,-187 268,-187 268,-187 262,-187 256,-181 256,-175 256,-175 256,-116 256,-116 256,-110 262,-104 268,-104 268,-104 358,-104 358,-104 364,-104 370,-110 370,-116 370,-116 370,-175 370,-175 370,-181 364,-187 358,-187\"/>\n",
       "<text text-anchor=\"start\" x=\"280\" y=\"-171.8\" font-family=\"Helvetica,sans-Serif\" font-size=\"14.00\">early ≤ 0.5</text>\n",
       "<text text-anchor=\"start\" x=\"264\" y=\"-156.8\" font-family=\"Helvetica,sans-Serif\" font-size=\"14.00\">entropy = 0.863</text>\n",
       "<text text-anchor=\"start\" x=\"275\" y=\"-141.8\" font-family=\"Helvetica,sans-Serif\" font-size=\"14.00\">samples = 7</text>\n",
       "<text text-anchor=\"start\" x=\"272.5\" y=\"-126.8\" font-family=\"Helvetica,sans-Serif\" font-size=\"14.00\">value = [2, 5]</text>\n",
       "<text text-anchor=\"start\" x=\"285\" y=\"-111.8\" font-family=\"Helvetica,sans-Serif\" font-size=\"14.00\">class = 1</text>\n",
       "</g>\n",
       "<!-- 0&#45;&gt;4 -->\n",
       "<g id=\"edge4\" class=\"edge\">\n",
       "<title>0&#45;&gt;4</title>\n",
       "<path fill=\"none\" stroke=\"black\" d=\"M268.59,-222.91C273.66,-214.2 279.06,-204.9 284.29,-195.89\"/>\n",
       "<polygon fill=\"black\" stroke=\"black\" points=\"287.45,-197.43 289.45,-187.02 281.4,-193.91 287.45,-197.43\"/>\n",
       "<text text-anchor=\"middle\" x=\"295.85\" y=\"-207.49\" font-family=\"Helvetica,sans-Serif\" font-size=\"14.00\">False</text>\n",
       "</g>\n",
       "<!-- 2 -->\n",
       "<g id=\"node3\" class=\"node\">\n",
       "<title>2</title>\n",
       "<path fill=\"#eca06a\" stroke=\"black\" d=\"M102,-68C102,-68 12,-68 12,-68 6,-68 0,-62 0,-56 0,-56 0,-12 0,-12 0,-6 6,0 12,0 12,0 102,0 102,0 108,0 114,-6 114,-12 114,-12 114,-56 114,-56 114,-62 108,-68 102,-68\"/>\n",
       "<text text-anchor=\"start\" x=\"8\" y=\"-52.8\" font-family=\"Helvetica,sans-Serif\" font-size=\"14.00\">entropy = 0.722</text>\n",
       "<text text-anchor=\"start\" x=\"19\" y=\"-37.8\" font-family=\"Helvetica,sans-Serif\" font-size=\"14.00\">samples = 5</text>\n",
       "<text text-anchor=\"start\" x=\"16.5\" y=\"-22.8\" font-family=\"Helvetica,sans-Serif\" font-size=\"14.00\">value = [4, 1]</text>\n",
       "<text text-anchor=\"start\" x=\"29\" y=\"-7.8\" font-family=\"Helvetica,sans-Serif\" font-size=\"14.00\">class = 0</text>\n",
       "</g>\n",
       "<!-- 1&#45;&gt;2 -->\n",
       "<g id=\"edge2\" class=\"edge\">\n",
       "<title>1&#45;&gt;2</title>\n",
       "<path fill=\"none\" stroke=\"black\" d=\"M132.32,-103.73C122.12,-94.42 111.29,-84.54 101.12,-75.26\"/>\n",
       "<polygon fill=\"black\" stroke=\"black\" points=\"103.24,-72.45 93.49,-68.3 98.52,-77.63 103.24,-72.45\"/>\n",
       "</g>\n",
       "<!-- 3 -->\n",
       "<g id=\"node4\" class=\"node\">\n",
       "<title>3</title>\n",
       "<path fill=\"#399de5\" stroke=\"black\" d=\"M219.5,-68C219.5,-68 144.5,-68 144.5,-68 138.5,-68 132.5,-62 132.5,-56 132.5,-56 132.5,-12 132.5,-12 132.5,-6 138.5,0 144.5,0 144.5,0 219.5,0 219.5,0 225.5,0 231.5,-6 231.5,-12 231.5,-12 231.5,-56 231.5,-56 231.5,-62 225.5,-68 219.5,-68\"/>\n",
       "<text text-anchor=\"start\" x=\"140.5\" y=\"-52.8\" font-family=\"Helvetica,sans-Serif\" font-size=\"14.00\">entropy = 0.0</text>\n",
       "<text text-anchor=\"start\" x=\"144\" y=\"-37.8\" font-family=\"Helvetica,sans-Serif\" font-size=\"14.00\">samples = 2</text>\n",
       "<text text-anchor=\"start\" x=\"141.5\" y=\"-22.8\" font-family=\"Helvetica,sans-Serif\" font-size=\"14.00\">value = [0, 2]</text>\n",
       "<text text-anchor=\"start\" x=\"154\" y=\"-7.8\" font-family=\"Helvetica,sans-Serif\" font-size=\"14.00\">class = 1</text>\n",
       "</g>\n",
       "<!-- 1&#45;&gt;3 -->\n",
       "<g id=\"edge3\" class=\"edge\">\n",
       "<title>1&#45;&gt;3</title>\n",
       "<path fill=\"none\" stroke=\"black\" d=\"M178.86,-103.73C179.24,-95.52 179.63,-86.86 180.01,-78.56\"/>\n",
       "<polygon fill=\"black\" stroke=\"black\" points=\"183.52,-78.45 180.48,-68.3 176.53,-78.13 183.52,-78.45\"/>\n",
       "</g>\n",
       "<!-- 5 -->\n",
       "<g id=\"node6\" class=\"node\">\n",
       "<title>5</title>\n",
       "<path fill=\"#ffffff\" stroke=\"black\" d=\"M345.5,-68C345.5,-68 270.5,-68 270.5,-68 264.5,-68 258.5,-62 258.5,-56 258.5,-56 258.5,-12 258.5,-12 258.5,-6 264.5,0 270.5,0 270.5,0 345.5,0 345.5,0 351.5,0 357.5,-6 357.5,-12 357.5,-12 357.5,-56 357.5,-56 357.5,-62 351.5,-68 345.5,-68\"/>\n",
       "<text text-anchor=\"start\" x=\"266.5\" y=\"-52.8\" font-family=\"Helvetica,sans-Serif\" font-size=\"14.00\">entropy = 1.0</text>\n",
       "<text text-anchor=\"start\" x=\"270\" y=\"-37.8\" font-family=\"Helvetica,sans-Serif\" font-size=\"14.00\">samples = 4</text>\n",
       "<text text-anchor=\"start\" x=\"267.5\" y=\"-22.8\" font-family=\"Helvetica,sans-Serif\" font-size=\"14.00\">value = [2, 2]</text>\n",
       "<text text-anchor=\"start\" x=\"280\" y=\"-7.8\" font-family=\"Helvetica,sans-Serif\" font-size=\"14.00\">class = 0</text>\n",
       "</g>\n",
       "<!-- 4&#45;&gt;5 -->\n",
       "<g id=\"edge5\" class=\"edge\">\n",
       "<title>4&#45;&gt;5</title>\n",
       "<path fill=\"none\" stroke=\"black\" d=\"M311.14,-103.73C310.76,-95.52 310.37,-86.86 309.99,-78.56\"/>\n",
       "<polygon fill=\"black\" stroke=\"black\" points=\"313.47,-78.13 309.52,-68.3 306.48,-78.45 313.47,-78.13\"/>\n",
       "</g>\n",
       "<!-- 6 -->\n",
       "<g id=\"node7\" class=\"node\">\n",
       "<title>6</title>\n",
       "<path fill=\"#399de5\" stroke=\"black\" d=\"M462.5,-68C462.5,-68 387.5,-68 387.5,-68 381.5,-68 375.5,-62 375.5,-56 375.5,-56 375.5,-12 375.5,-12 375.5,-6 381.5,0 387.5,0 387.5,0 462.5,0 462.5,0 468.5,0 474.5,-6 474.5,-12 474.5,-12 474.5,-56 474.5,-56 474.5,-62 468.5,-68 462.5,-68\"/>\n",
       "<text text-anchor=\"start\" x=\"383.5\" y=\"-52.8\" font-family=\"Helvetica,sans-Serif\" font-size=\"14.00\">entropy = 0.0</text>\n",
       "<text text-anchor=\"start\" x=\"387\" y=\"-37.8\" font-family=\"Helvetica,sans-Serif\" font-size=\"14.00\">samples = 3</text>\n",
       "<text text-anchor=\"start\" x=\"384.5\" y=\"-22.8\" font-family=\"Helvetica,sans-Serif\" font-size=\"14.00\">value = [0, 3]</text>\n",
       "<text text-anchor=\"start\" x=\"397\" y=\"-7.8\" font-family=\"Helvetica,sans-Serif\" font-size=\"14.00\">class = 1</text>\n",
       "</g>\n",
       "<!-- 4&#45;&gt;6 -->\n",
       "<g id=\"edge6\" class=\"edge\">\n",
       "<title>4&#45;&gt;6</title>\n",
       "<path fill=\"none\" stroke=\"black\" d=\"M354.7,-103.73C364.13,-94.51 374.13,-84.74 383.54,-75.53\"/>\n",
       "<polygon fill=\"black\" stroke=\"black\" points=\"386.24,-77.79 390.94,-68.3 381.34,-72.79 386.24,-77.79\"/>\n",
       "</g>\n",
       "</g>\n",
       "</svg>\n"
      ],
      "text/plain": [
       "<graphviz.sources.Source at 0x188616e2f88>"
      ]
     },
     "execution_count": 36,
     "metadata": {},
     "output_type": "execute_result"
    }
   ],
   "source": [
    "import graphviz\n",
    "\n",
    "ft=list(df_data.columns)\n",
    "tgn=['0','1']\n",
    "\n",
    "dot_data = tree.export_graphviz(clf2, out_file=None,feature_names=ft,class_names=tgn,filled=True, rounded=True,special_characters=True)  \n",
    "graph = graphviz.Source(dot_data)\n",
    "graph"
   ]
  },
  {
   "cell_type": "code",
   "execution_count": null,
   "metadata": {},
   "outputs": [],
   "source": [
    "################### END ########################"
   ]
  }
 ],
 "metadata": {
  "kernelspec": {
   "display_name": "tf2",
   "language": "python",
   "name": "tf2"
  },
  "language_info": {
   "codemirror_mode": {
    "name": "ipython",
    "version": 3
   },
   "file_extension": ".py",
   "mimetype": "text/x-python",
   "name": "python",
   "nbconvert_exporter": "python",
   "pygments_lexer": "ipython3",
   "version": "3.7.12"
  },
  "toc": {
   "base_numbering": 1,
   "nav_menu": {},
   "number_sections": true,
   "sideBar": true,
   "skip_h1_title": false,
   "title_cell": "Table of Contents",
   "title_sidebar": "Contents",
   "toc_cell": false,
   "toc_position": {},
   "toc_section_display": true,
   "toc_window_display": false
  }
 },
 "nbformat": 4,
 "nbformat_minor": 2
}
